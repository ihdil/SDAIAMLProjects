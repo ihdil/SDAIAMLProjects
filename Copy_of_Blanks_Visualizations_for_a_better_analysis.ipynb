{
  "nbformat": 4,
  "nbformat_minor": 0,
  "metadata": {
    "kernelspec": {
      "display_name": "Python 3",
      "language": "python",
      "name": "python3"
    },
    "language_info": {
      "codemirror_mode": {
        "name": "ipython",
        "version": 3
      },
      "file_extension": ".py",
      "mimetype": "text/x-python",
      "name": "python",
      "nbconvert_exporter": "python",
      "pygments_lexer": "ipython3",
      "version": "3.7.0"
    },
    "colab": {
      "provenance": [],
      "toc_visible": true,
      "include_colab_link": true
    }
  },
  "cells": [
    {
      "cell_type": "markdown",
      "metadata": {
        "id": "view-in-github",
        "colab_type": "text"
      },
      "source": [
        "<a href=\"https://colab.research.google.com/github/ihdil/SDAIAMLProjects/blob/main/Copy_of_Blanks_Visualizations_for_a_better_analysis.ipynb\" target=\"_parent\"><img src=\"https://colab.research.google.com/assets/colab-badge.svg\" alt=\"Open In Colab\"/></a>"
      ]
    },
    {
      "cell_type": "markdown",
      "metadata": {
        "id": "QTJZnDuVshZ6"
      },
      "source": [
        "# Visualizing the Iris Dataset\n",
        "\n",
        "---\n",
        "**Objective:** In this notebook, we will learn how we can create plots using python Matplotlib library.\n",
        "\n",
        "##Dataset Description\n",
        "- **sepal length (cm)**\n",
        "- **sepal width (cm)**\n",
        "- **petal length (cm)**\n",
        "- **petal width (cm)**\n",
        "- **target:**\tSetosa (0), VersiColour (1), and Virginica (2)"
      ]
    },
    {
      "cell_type": "markdown",
      "metadata": {
        "id": "1fmKbZG5shaV"
      },
      "source": [
        "###Import necessary Dependencies\n"
      ]
    },
    {
      "cell_type": "code",
      "metadata": {
        "id": "oo794bv4shaW"
      },
      "source": [
        "# basic libraries\n",
        "import numpy as np\n",
        "import pandas as pd\n",
        "from sklearn import datasets\n",
        "import matplotlib.pyplot as plt\n",
        "\n",
        "# additional methods from matplotlib\n",
        "from matplotlib import markers\n",
        "import matplotlib.patches as patches\n",
        "from mpl_toolkits.mplot3d import Axes3D\n",
        "%matplotlib inline"
      ],
      "execution_count": null,
      "outputs": []
    },
    {
      "cell_type": "markdown",
      "metadata": {
        "id": "3oKyLZ0JshaY"
      },
      "source": [
        "###Import Dataset"
      ]
    },
    {
      "cell_type": "code",
      "metadata": {
        "id": "h0TSgX0jshaY"
      },
      "source": [
        "iris = datasets.load_iris()\n",
        "df= pd.DataFrame(                  )\n",
        "df['species'] = pd.Categorical.from_codes(iris.target, iris.target_names)\n",
        "\n",
        "df.head()"
      ],
      "execution_count": null,
      "outputs": []
    },
    {
      "cell_type": "markdown",
      "metadata": {
        "id": "175cAJRtKL65"
      },
      "source": [
        "![alt text](https://www.researchgate.net/profile/Wolfgang-Engelmann/publication/265877256/figure/fig3/AS:669555605114885@1536645904238/Flower-of-a-plant-with-peduncle-a-calyx-consisting-of-sepals-petals-stamen-and-in.png)\n",
        "\n",
        "[Image source](https://www.researchgate.net/figure/Flower-of-a-plant-with-peduncle-a-calyx-consisting-of-sepals-petals-stamen-and-in_fig3_265877256)"
      ]
    },
    {
      "cell_type": "markdown",
      "metadata": {
        "id": "-iYfGwzXshab"
      },
      "source": [
        "# MATPLOTLIB"
      ]
    },
    {
      "cell_type": "markdown",
      "metadata": {
        "id": "Q5zfUq0yshac"
      },
      "source": [
        "### 1. Scatter plot\n",
        "A scatter plot visually represents the correlation between two variables, showcasing the extent to which one variable is influenced by the other. The proximity of the plotted data points to a straight line indicates the strength of the correlation. When the line goes from low x and y values to high x and y values, the variables exhibit a positive correlation. Conversely, if the line descends from a high y-value to a high x-value, the variables display a negative correlation."
      ]
    },
    {
      "cell_type": "code",
      "metadata": {
        "id": "HXECplLPshae"
      },
      "source": [
        "#Basic plot\n",
        "plt.plot(                     )\n",
        "plt.xlabel('sepal length (cm)')\n",
        "plt.ylabel('sepal width (cm)')\n",
        "plt.title('Relationship between sepal length & width')\n",
        "plt.show()"
      ],
      "execution_count": null,
      "outputs": []
    },
    {
      "cell_type": "markdown",
      "metadata": {
        "id": "jsLxKuO9shaf"
      },
      "source": [
        "There is no relation between sepal length (cm) & sepal width (cm)"
      ]
    },
    {
      "cell_type": "code",
      "metadata": {
        "id": "54xIb27Fshag"
      },
      "source": [
        "plt.plot(            )\n",
        "plt.xlabel('sepal length (cm)')\n",
        "plt.ylabel('petal length (cm)')\n",
        "plt.title('Relationship between sepal & petal length')\n",
        "plt.show()"
      ],
      "execution_count": null,
      "outputs": []
    },
    {
      "cell_type": "markdown",
      "metadata": {
        "id": "VSZpizbtshai"
      },
      "source": [
        "There is a positive correlation between sepal length (cm) & petal length (cm)"
      ]
    },
    {
      "cell_type": "code",
      "metadata": {
        "id": "RM29OZZLshai"
      },
      "source": [
        "plt.plot(                )\n",
        "plt.xlabel('sepal length (cm)')\n",
        "plt.ylabel('petal width (cm)')\n",
        "plt.title('Relationship between sepal length & width')\n",
        "plt.show()"
      ],
      "execution_count": null,
      "outputs": []
    },
    {
      "cell_type": "markdown",
      "metadata": {
        "id": "6vuYv097shaj"
      },
      "source": [
        "There is a positive correlation between sepal length (cm) & petal width (cm)"
      ]
    },
    {
      "cell_type": "code",
      "metadata": {
        "id": "xxgJpQ1yshaj"
      },
      "source": [
        "plt.plot(                )\n",
        "plt.xlabel('sepal width (cm)')\n",
        "plt.ylabel('petal length (cm)')\n",
        "plt.title('Relationship between sepal width & petal length')\n",
        "plt.show()"
      ],
      "execution_count": null,
      "outputs": []
    },
    {
      "cell_type": "markdown",
      "metadata": {
        "id": "zhv3KUoNshak"
      },
      "source": [
        "There is no relation between sepal width (cm) & petal length (cm)"
      ]
    },
    {
      "cell_type": "code",
      "metadata": {
        "id": "CJUA4Fe9shal"
      },
      "source": [
        "plt.plot(                 )\n",
        "plt.xlabel('sepal width (cm)')\n",
        "plt.ylabel('petal width (cm)')\n",
        "plt.title('Relationship between sepal & petal width')\n",
        "plt.show()"
      ],
      "execution_count": null,
      "outputs": []
    },
    {
      "cell_type": "markdown",
      "metadata": {
        "id": "J0WD4KoGshal"
      },
      "source": [
        "There is no relation between sepal width (cm) & petal width (cm)"
      ]
    },
    {
      "cell_type": "code",
      "metadata": {
        "id": "OjP4fLawshal"
      },
      "source": [
        "plt.plot( 'petal length (cm)', 'petal width (cm)', data=df, linestyle='none', marker='o')\n",
        "plt.xlabel('petal length (cm)')\n",
        "plt.ylabel('petal width (cm)')\n",
        "plt.title('Relationship between petal length & width')\n",
        "plt.show()"
      ],
      "execution_count": null,
      "outputs": []
    },
    {
      "cell_type": "markdown",
      "metadata": {
        "id": "bVzszbXesham"
      },
      "source": [
        "There is strong positive relation between petal length (cm) & petal width (cm)"
      ]
    },
    {
      "cell_type": "markdown",
      "metadata": {
        "id": "1Z9-pGbMsha2"
      },
      "source": [
        "\n",
        "\n",
        "### 2. Bubble plot\n",
        "A bubble chart, also known as a bubble plot, is an expanded version of a scatter plot that allows for the examination of relationships between three numeric variables. Each data point in the chart is represented by its horizontal position, vertical position, and the size of the dot. It is important to note that using too many bubbles can make the chart difficult to interpret, so it is generally not recommended for large datasets. Additionally, when creating a bubble chart, it is crucial to ensure that the area of the circles accurately reflects the values being represented, rather than just the radius. This prevents any exaggeration of the variations in the data."
      ]
    },
    {
      "cell_type": "code",
      "metadata": {
        "id": "AAza7llkshbO"
      },
      "source": [
        "# use the scatter function  since bubble plot is very close to a scatterplot.\n",
        "# we will use  ‘s‘ argument to map a third numerical variable to the color of the marker.\n",
        "\n",
        "#we will use species column to set the color and size of bubbles\n",
        "\n",
        "\n",
        "\n",
        "\n",
        "\n",
        "print(size)\n",
        "\n",
        "plt.scatter(df['sepal length (cm)'], df['sepal width (cm)'], s=df.groupby('species')['species'].transform('count'), c=df.species.map(color), marker='o',linewidth=1, alpha=0.5)\n",
        "plt.xlabel('sepal length (cm)')\n",
        "plt.ylabel('sepal width (cm)')\n",
        "plt.title('Bubble plot showing relation across sepal length, sepal width, & Iris class')\n",
        "plt.show()"
      ],
      "execution_count": null,
      "outputs": []
    },
    {
      "cell_type": "markdown",
      "metadata": {
        "id": "VffrqZZvshbQ"
      },
      "source": [
        "1. specify the color of bubbles using c arg\n",
        "2. specify the shape of bubble using marker arg\n",
        "3. specify edge width using linewidth arg"
      ]
    },
    {
      "cell_type": "markdown",
      "metadata": {
        "id": "EHeBHxTRshbR"
      },
      "source": [
        "### 3. Box plot\n",
        "A boxplot is a standardized visual representation that summarizes the distribution of data using five key values: the minimum, the first quartile (Q1), the median, the third quartile (Q3), and the maximum. It provides insights into the presence of outliers and their specific values. Additionally, a boxplot can indicate whether the data is skewed and the extent of the skewness."
      ]
    },
    {
      "cell_type": "code",
      "metadata": {
        "id": "xh4qQvcQshbT"
      },
      "source": [
        "plt.boxplot(                    )\n",
        "plt.ylabel('sepal length (cm)')\n",
        "plt.title('Sepal Length Box plot')"
      ],
      "execution_count": null,
      "outputs": []
    },
    {
      "cell_type": "markdown",
      "metadata": {
        "id": "B9r2x2vNshbV"
      },
      "source": [
        "**Sepal length:**\n",
        "1. has no outliers\n",
        "2. negatively skewed: median closest to the max\n",
        "3. not symmetric: whiskers are no equals\n"
      ]
    },
    {
      "cell_type": "code",
      "metadata": {
        "id": "LnlHTyW3shbW"
      },
      "source": [
        "plt.boxplot(                     )\n",
        "plt.ylabel('sepal width (cm)')\n",
        "plt.title('Sepal width Box plot')"
      ],
      "execution_count": null,
      "outputs": []
    },
    {
      "cell_type": "markdown",
      "metadata": {
        "id": "sO3FQXGEshbZ"
      },
      "source": [
        "**Sepal width:**\n",
        "1. has outliers\n",
        "2. postively skewed: median closest to the min\n",
        "3. not symmetric: whiskers are no equals"
      ]
    },
    {
      "cell_type": "code",
      "metadata": {
        "id": "VkUsN_FWshbd"
      },
      "source": [
        "plt.boxplot(df['petal length (cm)'])\n",
        "plt.ylabel('petal length (cm)')\n",
        "plt.title('petal Length Box plot')"
      ],
      "execution_count": null,
      "outputs": []
    },
    {
      "cell_type": "markdown",
      "metadata": {
        "id": "lJJhy2iTshbd"
      },
      "source": [
        "**Petal length:**\n",
        "1. has no outliers\n",
        "2. negatively skewed: median closest to the max\n",
        "3. not symmetric: whiskers are no equals, distance between median &1Q, median &3Q are not equal"
      ]
    },
    {
      "cell_type": "code",
      "metadata": {
        "id": "Ai7CM3G8shbe"
      },
      "source": [
        "plt.boxplot(df['petal width (cm)'])\n",
        "plt.ylabel('petal width (cm)')\n",
        "plt.title('petal width Box plot')"
      ],
      "execution_count": null,
      "outputs": []
    },
    {
      "cell_type": "markdown",
      "metadata": {
        "id": "3E75MPR9shbe"
      },
      "source": [
        "**Petal width:**\n",
        "1. has no outliers\n",
        "2. negatively skewed: median closest to the min\n",
        "3. not symmetric: whiskers are no equals, distance between median &1Q, median &3Q are not equal"
      ]
    },
    {
      "cell_type": "markdown",
      "metadata": {
        "id": "6rcEsvtqshbv"
      },
      "source": [
        "### 4. 1D Histogram plot\n",
        "A frequency distribution displays the frequency or occurrence of each unique value within a dataset. It is specifically designed for numeric values. The variable is divided into multiple bins or categories, and the height of the bars represents the number of observations falling within each bin."
      ]
    },
    {
      "cell_type": "code",
      "metadata": {
        "id": "I0gPD97fshbv"
      },
      "source": [
        "\n",
        "\n",
        "\n",
        "plt.title('sepal length histogram')\n",
        "plt.show()"
      ],
      "execution_count": null,
      "outputs": []
    },
    {
      "cell_type": "code",
      "metadata": {
        "id": "yTLbqxK9shbw"
      },
      "source": [
        "\n",
        "\n",
        "\n",
        "plt.title('sepal width histogram')\n",
        "plt.show()"
      ],
      "execution_count": null,
      "outputs": []
    },
    {
      "cell_type": "code",
      "metadata": {
        "id": "f8tvf8C6shbx"
      },
      "source": [
        "plt.hist(df['petal length (cm)'], 16)\n",
        "plt.title('petal length histogram')\n",
        "plt.show()"
      ],
      "execution_count": null,
      "outputs": []
    },
    {
      "cell_type": "code",
      "metadata": {
        "id": "M5Ab9CjIshbx"
      },
      "source": [
        "plt.hist(df['petal width (cm)'], 16)\n",
        "plt.title('petal width histogram')\n",
        "plt.show()"
      ],
      "execution_count": null,
      "outputs": []
    },
    {
      "cell_type": "markdown",
      "metadata": {
        "id": "q5EJ0uU3shby"
      },
      "source": [
        "### 5. 3D scatter plot\n"
      ]
    },
    {
      "cell_type": "code",
      "metadata": {
        "id": "ENv4Dsnsshby"
      },
      "source": [
        "fig = plt.figure()\n",
        "ax = fig.add_subplot(111, projection='3d')\n",
        "\n",
        "\n",
        "\n",
        "ax.view_init(30, 185)\n",
        "plt.show()\n"
      ],
      "execution_count": null,
      "outputs": []
    }
  ]
}